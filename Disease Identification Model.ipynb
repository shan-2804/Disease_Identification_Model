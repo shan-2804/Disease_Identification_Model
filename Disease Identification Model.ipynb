{
 "cells": [
  {
   "cell_type": "markdown",
   "id": "b63fe267",
   "metadata": {},
   "source": [
    "# Disease Identification Model"
   ]
  },
  {
   "cell_type": "markdown",
   "id": "acfb749c",
   "metadata": {},
   "source": [
    "## Importing necessary Libraries"
   ]
  },
  {
   "cell_type": "code",
   "execution_count": 2,
   "id": "38a89627",
   "metadata": {},
   "outputs": [],
   "source": [
    "import pandas as pd\n",
    "from sklearn.preprocessing import LabelEncoder\n",
    "from sklearn.ensemble import RandomForestClassifier\n",
    "import joblib\n",
    "from sklearn.model_selection import train_test_split\n",
    "from sklearn.impute import SimpleImputer"
   ]
  },
  {
   "cell_type": "markdown",
   "id": "b94974ce",
   "metadata": {},
   "source": [
    "## Fetching the Data"
   ]
  },
  {
   "cell_type": "code",
   "execution_count": 3,
   "id": "ccc4f702",
   "metadata": {},
   "outputs": [],
   "source": [
    "data = pd.read_csv('training.csv')"
   ]
  },
  {
   "cell_type": "code",
   "execution_count": 4,
   "id": "669c055c",
   "metadata": {},
   "outputs": [],
   "source": [
    "label_encoder = LabelEncoder()\n",
    "data['prognosis'] = label_encoder.fit_transform(data['prognosis'])"
   ]
  },
  {
   "cell_type": "code",
   "execution_count": 5,
   "id": "9c11e7f9",
   "metadata": {},
   "outputs": [],
   "source": [
    "X = data.drop('prognosis', axis=1)\n",
    "y = data['prognosis']\n",
    "\n",
    "X_train, X_test, y_train, y_test = train_test_split(X, y, test_size=0.3, random_state=40)"
   ]
  },
  {
   "cell_type": "code",
   "execution_count": 6,
   "id": "3d2f29a4",
   "metadata": {},
   "outputs": [
    {
     "data": {
      "text/html": [
       "<style>#sk-container-id-1 {color: black;background-color: white;}#sk-container-id-1 pre{padding: 0;}#sk-container-id-1 div.sk-toggleable {background-color: white;}#sk-container-id-1 label.sk-toggleable__label {cursor: pointer;display: block;width: 100%;margin-bottom: 0;padding: 0.3em;box-sizing: border-box;text-align: center;}#sk-container-id-1 label.sk-toggleable__label-arrow:before {content: \"▸\";float: left;margin-right: 0.25em;color: #696969;}#sk-container-id-1 label.sk-toggleable__label-arrow:hover:before {color: black;}#sk-container-id-1 div.sk-estimator:hover label.sk-toggleable__label-arrow:before {color: black;}#sk-container-id-1 div.sk-toggleable__content {max-height: 0;max-width: 0;overflow: hidden;text-align: left;background-color: #f0f8ff;}#sk-container-id-1 div.sk-toggleable__content pre {margin: 0.2em;color: black;border-radius: 0.25em;background-color: #f0f8ff;}#sk-container-id-1 input.sk-toggleable__control:checked~div.sk-toggleable__content {max-height: 200px;max-width: 100%;overflow: auto;}#sk-container-id-1 input.sk-toggleable__control:checked~label.sk-toggleable__label-arrow:before {content: \"▾\";}#sk-container-id-1 div.sk-estimator input.sk-toggleable__control:checked~label.sk-toggleable__label {background-color: #d4ebff;}#sk-container-id-1 div.sk-label input.sk-toggleable__control:checked~label.sk-toggleable__label {background-color: #d4ebff;}#sk-container-id-1 input.sk-hidden--visually {border: 0;clip: rect(1px 1px 1px 1px);clip: rect(1px, 1px, 1px, 1px);height: 1px;margin: -1px;overflow: hidden;padding: 0;position: absolute;width: 1px;}#sk-container-id-1 div.sk-estimator {font-family: monospace;background-color: #f0f8ff;border: 1px dotted black;border-radius: 0.25em;box-sizing: border-box;margin-bottom: 0.5em;}#sk-container-id-1 div.sk-estimator:hover {background-color: #d4ebff;}#sk-container-id-1 div.sk-parallel-item::after {content: \"\";width: 100%;border-bottom: 1px solid gray;flex-grow: 1;}#sk-container-id-1 div.sk-label:hover label.sk-toggleable__label {background-color: #d4ebff;}#sk-container-id-1 div.sk-serial::before {content: \"\";position: absolute;border-left: 1px solid gray;box-sizing: border-box;top: 0;bottom: 0;left: 50%;z-index: 0;}#sk-container-id-1 div.sk-serial {display: flex;flex-direction: column;align-items: center;background-color: white;padding-right: 0.2em;padding-left: 0.2em;position: relative;}#sk-container-id-1 div.sk-item {position: relative;z-index: 1;}#sk-container-id-1 div.sk-parallel {display: flex;align-items: stretch;justify-content: center;background-color: white;position: relative;}#sk-container-id-1 div.sk-item::before, #sk-container-id-1 div.sk-parallel-item::before {content: \"\";position: absolute;border-left: 1px solid gray;box-sizing: border-box;top: 0;bottom: 0;left: 50%;z-index: -1;}#sk-container-id-1 div.sk-parallel-item {display: flex;flex-direction: column;z-index: 1;position: relative;background-color: white;}#sk-container-id-1 div.sk-parallel-item:first-child::after {align-self: flex-end;width: 50%;}#sk-container-id-1 div.sk-parallel-item:last-child::after {align-self: flex-start;width: 50%;}#sk-container-id-1 div.sk-parallel-item:only-child::after {width: 0;}#sk-container-id-1 div.sk-dashed-wrapped {border: 1px dashed gray;margin: 0 0.4em 0.5em 0.4em;box-sizing: border-box;padding-bottom: 0.4em;background-color: white;}#sk-container-id-1 div.sk-label label {font-family: monospace;font-weight: bold;display: inline-block;line-height: 1.2em;}#sk-container-id-1 div.sk-label-container {text-align: center;}#sk-container-id-1 div.sk-container {/* jupyter's `normalize.less` sets `[hidden] { display: none; }` but bootstrap.min.css set `[hidden] { display: none !important; }` so we also need the `!important` here to be able to override the default hidden behavior on the sphinx rendered scikit-learn.org. See: https://github.com/scikit-learn/scikit-learn/issues/21755 */display: inline-block !important;position: relative;}#sk-container-id-1 div.sk-text-repr-fallback {display: none;}</style><div id=\"sk-container-id-1\" class=\"sk-top-container\"><div class=\"sk-text-repr-fallback\"><pre>SimpleImputer()</pre><b>In a Jupyter environment, please rerun this cell to show the HTML representation or trust the notebook. <br />On GitHub, the HTML representation is unable to render, please try loading this page with nbviewer.org.</b></div><div class=\"sk-container\" hidden><div class=\"sk-item\"><div class=\"sk-estimator sk-toggleable\"><input class=\"sk-toggleable__control sk-hidden--visually\" id=\"sk-estimator-id-1\" type=\"checkbox\" checked><label for=\"sk-estimator-id-1\" class=\"sk-toggleable__label sk-toggleable__label-arrow\">SimpleImputer</label><div class=\"sk-toggleable__content\"><pre>SimpleImputer()</pre></div></div></div></div></div>"
      ],
      "text/plain": [
       "SimpleImputer()"
      ]
     },
     "execution_count": 6,
     "metadata": {},
     "output_type": "execute_result"
    }
   ],
   "source": [
    "imputer = SimpleImputer(strategy='mean')\n",
    "\n",
    "imputer.fit(X_train)"
   ]
  },
  {
   "cell_type": "code",
   "execution_count": 7,
   "id": "a85e5657",
   "metadata": {},
   "outputs": [],
   "source": [
    "X_train_imputed = imputer.transform(X_train)\n",
    "X_test_imputed = imputer.transform(X_test)\n"
   ]
  },
  {
   "cell_type": "code",
   "execution_count": 8,
   "id": "5ad1ca06",
   "metadata": {},
   "outputs": [
    {
     "data": {
      "text/html": [
       "<style>#sk-container-id-2 {color: black;background-color: white;}#sk-container-id-2 pre{padding: 0;}#sk-container-id-2 div.sk-toggleable {background-color: white;}#sk-container-id-2 label.sk-toggleable__label {cursor: pointer;display: block;width: 100%;margin-bottom: 0;padding: 0.3em;box-sizing: border-box;text-align: center;}#sk-container-id-2 label.sk-toggleable__label-arrow:before {content: \"▸\";float: left;margin-right: 0.25em;color: #696969;}#sk-container-id-2 label.sk-toggleable__label-arrow:hover:before {color: black;}#sk-container-id-2 div.sk-estimator:hover label.sk-toggleable__label-arrow:before {color: black;}#sk-container-id-2 div.sk-toggleable__content {max-height: 0;max-width: 0;overflow: hidden;text-align: left;background-color: #f0f8ff;}#sk-container-id-2 div.sk-toggleable__content pre {margin: 0.2em;color: black;border-radius: 0.25em;background-color: #f0f8ff;}#sk-container-id-2 input.sk-toggleable__control:checked~div.sk-toggleable__content {max-height: 200px;max-width: 100%;overflow: auto;}#sk-container-id-2 input.sk-toggleable__control:checked~label.sk-toggleable__label-arrow:before {content: \"▾\";}#sk-container-id-2 div.sk-estimator input.sk-toggleable__control:checked~label.sk-toggleable__label {background-color: #d4ebff;}#sk-container-id-2 div.sk-label input.sk-toggleable__control:checked~label.sk-toggleable__label {background-color: #d4ebff;}#sk-container-id-2 input.sk-hidden--visually {border: 0;clip: rect(1px 1px 1px 1px);clip: rect(1px, 1px, 1px, 1px);height: 1px;margin: -1px;overflow: hidden;padding: 0;position: absolute;width: 1px;}#sk-container-id-2 div.sk-estimator {font-family: monospace;background-color: #f0f8ff;border: 1px dotted black;border-radius: 0.25em;box-sizing: border-box;margin-bottom: 0.5em;}#sk-container-id-2 div.sk-estimator:hover {background-color: #d4ebff;}#sk-container-id-2 div.sk-parallel-item::after {content: \"\";width: 100%;border-bottom: 1px solid gray;flex-grow: 1;}#sk-container-id-2 div.sk-label:hover label.sk-toggleable__label {background-color: #d4ebff;}#sk-container-id-2 div.sk-serial::before {content: \"\";position: absolute;border-left: 1px solid gray;box-sizing: border-box;top: 0;bottom: 0;left: 50%;z-index: 0;}#sk-container-id-2 div.sk-serial {display: flex;flex-direction: column;align-items: center;background-color: white;padding-right: 0.2em;padding-left: 0.2em;position: relative;}#sk-container-id-2 div.sk-item {position: relative;z-index: 1;}#sk-container-id-2 div.sk-parallel {display: flex;align-items: stretch;justify-content: center;background-color: white;position: relative;}#sk-container-id-2 div.sk-item::before, #sk-container-id-2 div.sk-parallel-item::before {content: \"\";position: absolute;border-left: 1px solid gray;box-sizing: border-box;top: 0;bottom: 0;left: 50%;z-index: -1;}#sk-container-id-2 div.sk-parallel-item {display: flex;flex-direction: column;z-index: 1;position: relative;background-color: white;}#sk-container-id-2 div.sk-parallel-item:first-child::after {align-self: flex-end;width: 50%;}#sk-container-id-2 div.sk-parallel-item:last-child::after {align-self: flex-start;width: 50%;}#sk-container-id-2 div.sk-parallel-item:only-child::after {width: 0;}#sk-container-id-2 div.sk-dashed-wrapped {border: 1px dashed gray;margin: 0 0.4em 0.5em 0.4em;box-sizing: border-box;padding-bottom: 0.4em;background-color: white;}#sk-container-id-2 div.sk-label label {font-family: monospace;font-weight: bold;display: inline-block;line-height: 1.2em;}#sk-container-id-2 div.sk-label-container {text-align: center;}#sk-container-id-2 div.sk-container {/* jupyter's `normalize.less` sets `[hidden] { display: none; }` but bootstrap.min.css set `[hidden] { display: none !important; }` so we also need the `!important` here to be able to override the default hidden behavior on the sphinx rendered scikit-learn.org. See: https://github.com/scikit-learn/scikit-learn/issues/21755 */display: inline-block !important;position: relative;}#sk-container-id-2 div.sk-text-repr-fallback {display: none;}</style><div id=\"sk-container-id-2\" class=\"sk-top-container\"><div class=\"sk-text-repr-fallback\"><pre>RandomForestClassifier(max_depth=5, n_estimators=50, random_state=40)</pre><b>In a Jupyter environment, please rerun this cell to show the HTML representation or trust the notebook. <br />On GitHub, the HTML representation is unable to render, please try loading this page with nbviewer.org.</b></div><div class=\"sk-container\" hidden><div class=\"sk-item\"><div class=\"sk-estimator sk-toggleable\"><input class=\"sk-toggleable__control sk-hidden--visually\" id=\"sk-estimator-id-2\" type=\"checkbox\" checked><label for=\"sk-estimator-id-2\" class=\"sk-toggleable__label sk-toggleable__label-arrow\">RandomForestClassifier</label><div class=\"sk-toggleable__content\"><pre>RandomForestClassifier(max_depth=5, n_estimators=50, random_state=40)</pre></div></div></div></div></div>"
      ],
      "text/plain": [
       "RandomForestClassifier(max_depth=5, n_estimators=50, random_state=40)"
      ]
     },
     "execution_count": 8,
     "metadata": {},
     "output_type": "execute_result"
    }
   ],
   "source": [
    "model = RandomForestClassifier(n_estimators=50, max_depth=5, random_state=40)\n",
    "\n",
    "model.fit(X_train_imputed, y_train)"
   ]
  },
  {
   "cell_type": "code",
   "execution_count": 9,
   "id": "9ce413d9",
   "metadata": {},
   "outputs": [
    {
     "name": "stdout",
     "output_type": "stream",
     "text": [
      "Model Accuracy: 0.9126016260162602\n"
     ]
    }
   ],
   "source": [
    "accuracy = model.score(X_test_imputed, y_test)\n",
    "print(\"Model Accuracy:\", accuracy)"
   ]
  },
  {
   "cell_type": "code",
   "execution_count": 26,
   "id": "ca20657a",
   "metadata": {},
   "outputs": [
    {
     "data": {
      "text/plain": [
       "['trained_model.joblib']"
      ]
     },
     "execution_count": 26,
     "metadata": {},
     "output_type": "execute_result"
    }
   ],
   "source": [
    "joblib.dump(model, 'trained_model.joblib')"
   ]
  },
  {
   "cell_type": "code",
   "execution_count": 27,
   "id": "69078b9b",
   "metadata": {},
   "outputs": [],
   "source": [
    "def predict_disease(symptoms, model, symptom_names):\n",
    "    binary_symptoms = [0] * len(symptom_names)\n",
    "    \n",
    "    for symptom in symptoms:\n",
    "        if symptom in symptom_names:\n",
    "            index = symptom_names.index(symptom)\n",
    "            binary_symptoms[index] = 1\n",
    "   \n",
    "    disease = model.predict([binary_symptoms])[0]\n",
    "    \n",
    "    return disease"
   ]
  },
  {
   "cell_type": "code",
   "execution_count": 28,
   "id": "7eba6f20",
   "metadata": {
    "scrolled": true
   },
   "outputs": [],
   "source": [
    "symptom_names = [\n",
    "    \"itching\", \"skin_rash\", \"nodal_skin_eruptions\", \"continuous_sneezing\",\n",
    "    \"shivering\", \"chills\", \"joint_pain\", \"stomach_pain\", \"acidity\",\n",
    "    \"ulcers_on_tongue\", \"muscle_wasting\", \"vomiting\", \"burning_micturition\",\n",
    "    \"spotting_urination\", \"fatigue\", \"weight_gain\", \"anxiety\",\n",
    "    \"cold_hands_and_feets\", \"mood_swings\", \"weight_loss\", \"restlessness\",\n",
    "    \"lethargy\", \"patches_in_throat\", \"irregular_sugar_level\", \"cough\",\n",
    "    \"high_fever\", \"sunken_eyes\", \"breathlessness\", \"sweating\", \"dehydration\",\n",
    "    \"indigestion\", \"headache\", \"yellowish_skin\", \"dark_urine\", \"nausea\",\n",
    "    \"loss_of_appetite\", \"pain_behind_the_eyes\", \"back_pain\", \"constipation\",\n",
    "    \"abdominal_pain\", \"diarrhoea\", \"mild_fever\", \"yellow_urine\",\n",
    "    \"yellowing_of_eyes\", \"acute_liver_failure\", \"fluid_overload\",\n",
    "    \"swelling_of_stomach\", \"swelled_lymph_nodes\", \"malaise\",\n",
    "    \"blurred_and_distorted_vision\", \"phlegm\", \"throat_irritation\",\n",
    "    \"redness_of_eyes\", \"sinus_pressure\", \"runny_nose\", \"congestion\",\n",
    "    \"chest_pain\", \"weakness_in_limbs\", \"fast_heart_rate\",\n",
    "    \"pain_during_bowel_movements\", \"pain_in_anal_region\", \"bloody_stool\",\n",
    "    \"irritation_in_anus\", \"neck_pain\", \"dizziness\", \"cramps\", \"bruising\",\n",
    "    \"obesity\", \"swollen_legs\", \"swollen_blood_vessels\",\n",
    "    \"puffy_face_and_eyes\", \"enlarged_thyroid\", \"brittle_nails\",\n",
    "    \"swollen_extremeties\", \"excessive_hunger\", \"extra_marital_contacts\",\n",
    "    \"drying_and_tingling_lips\", \"slurred_speech\", \"knee_pain\",\n",
    "    \"hip_joint_pain\", \"muscle_weakness\", \"stiff_neck\", \"swelling_joints\",\n",
    "    \"movement_stiffness\", \"spinning_movements\", \"loss_of_balance\",\n",
    "    \"unsteadiness\", \"weakness_of_one_body_side\", \"loss_of_smell\",\n",
    "    \"bladder_discomfort\", \"foul_smell_of_urine\", \"continuous_feel_of_urine\",\n",
    "    \"passage_of_gases\", \"internal_itching\", \"toxic_look_(typhos)\",\n",
    "    \"depression\", \"irritability\", \"muscle_pain\", \"altered_sensorium\",\n",
    "    \"red_spots_over_body\", \"belly_pain\", \"abnormal_menstruation\",\n",
    "    \"dischromic_patches\", \"watering_from_eyes\", \"increased_appetite\",\n",
    "    \"polyuria\", \"family_history\", \"mucoid_sputum\", \"rusty_sputum\",\n",
    "    \"lack_of_concentration\", \"visual_disturbances\",\n",
    "    \"receiving_blood_transfusion\", \"receiving_unsterile_injections\", \"coma\",\n",
    "    \"stomach_bleeding\", \"distention_of_abdomen\",\n",
    "    \"history_of_alcohol_consumption\", \"fluid_overload\", \"blood_in_sputum\",\n",
    "    \"prominent_veins_on_calf\", \"palpitations\", \"painful_walking\",\n",
    "    \"pus_filled_pimples\", \"blackheads\", \"scurring\", \"skin_peeling\",\n",
    "    \"silver_like_dusting\", \"small_dents_in_nails\", \"inflammatory_nails\",\n",
    "    \"blister\", \"red_sore_around_nose\", \"yellow_crust_ooze\"\n",
    "]"
   ]
  },
  {
   "cell_type": "code",
   "execution_count": 29,
   "id": "e1337f2e",
   "metadata": {},
   "outputs": [],
   "source": [
    "input_symptoms = ['itching', 'skin_rash', 'nodal_skin_eruptions', 'continuous_sneezing', 'shivering']\n",
    "predicted_label = predict_disease(input_symptoms, model, symptom_names)"
   ]
  },
  {
   "cell_type": "markdown",
   "id": "cd4a2d01",
   "metadata": {},
   "source": [
    "input_symptoms = ['itching', 'skin_rash', 'nodal_skin_eruptions', 'continuous_sneezing', 'shivering']\n",
    "input_symptoms = ['fatigue', 'weight_gain', 'anxiety', 'cold_hands_and_feets', 'mood_swings']\n",
    "input_symptoms = ['cough', 'high_fever', 'sunken_eyes', 'breathlessness', 'sweating']\n",
    "input_symptoms = ['yellowish_skin', 'dark_urine', 'nausea', 'loss_of_appetite', 'pain_behind_the_eyes']\n",
    "input_symptoms = ['abdominal_pain', 'diarrhoea', 'mild_fever', 'yellow_urine', 'yellowing_of_eyes']\n"
   ]
  },
  {
   "cell_type": "code",
   "execution_count": 30,
   "id": "f5807597",
   "metadata": {},
   "outputs": [],
   "source": [
    "disease_mapping = {\n",
    "    0: 'Fungal infection',\n",
    "    1: 'Allergy',\n",
    "    2: 'GERD',\n",
    "    3: 'Chronic cholestasis',\n",
    "    4: 'Drug Reaction',\n",
    "    5: 'Peptic ulcer diseae',\n",
    "    6: 'AIDS',\n",
    "    7: 'Diabetes',\n",
    "    8: 'Gastroenteritis',\n",
    "    9: 'Bronchial Asthma',\n",
    "    10: 'Hypertension',\n",
    "    11: 'Migraine',\n",
    "    12: 'Cervical spondylosis',\n",
    "    13: 'Paralysis (brain hemorrhage)',\n",
    "    14: 'Jaundice',\n",
    "    15: 'Malaria',\n",
    "    16: 'Chicken pox',\n",
    "    17: 'Dengue',\n",
    "    18: 'Typhoid',\n",
    "    19: 'hepatitis A',\n",
    "    20: 'Hepatitis B',\n",
    "    21: 'Hepatitis C',\n",
    "    22: 'Hepatitis D',\n",
    "    23: 'Hepatitis E',\n",
    "    24: 'Alcoholic hepatitis',\n",
    "    25: 'Tuberculosis',\n",
    "    26: 'Common Cold',\n",
    "    27: 'Pneumonia',\n",
    "    28: 'Dimorphic hemmorhoids(piles)',\n",
    "    29: 'Heart attack',\n",
    "    30: 'Varicose veins',\n",
    "    31: 'Hypothyroidism',\n",
    "    32: 'Hyperthyroidism',\n",
    "    33: 'Hypoglycemia',\n",
    "    34: 'Osteoarthristis',\n",
    "    35: 'Arthritis',\n",
    "    36: '(vertigo) Paroymsal Positional Vertigo',\n",
    "    37: 'Acne',\n",
    "    38: 'Urinary tract infection',\n",
    "    39: 'Psoriasis',\n",
    "    40: 'Impetigo'\n",
    "}"
   ]
  },
  {
   "cell_type": "code",
   "execution_count": 31,
   "id": "79f9134d",
   "metadata": {},
   "outputs": [
    {
     "name": "stdout",
     "output_type": "stream",
     "text": [
      "Predicted Disease: Drug Reaction\n"
     ]
    }
   ],
   "source": [
    "predicted_disease = disease_mapping.get(predicted_label, 'Unknown Disease')\n",
    "print(\"Predicted Disease:\", predicted_disease)"
   ]
  },
  {
   "cell_type": "code",
   "execution_count": null,
   "id": "ed0bd5ae",
   "metadata": {},
   "outputs": [],
   "source": []
  },
  {
   "cell_type": "code",
   "execution_count": null,
   "id": "b1d67216",
   "metadata": {},
   "outputs": [],
   "source": []
  },
  {
   "cell_type": "code",
   "execution_count": null,
   "id": "a74133f1",
   "metadata": {},
   "outputs": [],
   "source": []
  },
  {
   "cell_type": "code",
   "execution_count": null,
   "id": "b25b6c86",
   "metadata": {},
   "outputs": [],
   "source": []
  },
  {
   "cell_type": "code",
   "execution_count": null,
   "id": "ad0bf215",
   "metadata": {},
   "outputs": [],
   "source": [
    "\n"
   ]
  },
  {
   "cell_type": "code",
   "execution_count": null,
   "id": "f8b81e71",
   "metadata": {},
   "outputs": [],
   "source": []
  },
  {
   "cell_type": "code",
   "execution_count": null,
   "id": "465b9205",
   "metadata": {},
   "outputs": [],
   "source": []
  }
 ],
 "metadata": {
  "kernelspec": {
   "display_name": "Python 3 (ipykernel)",
   "language": "python",
   "name": "python3"
  },
  "language_info": {
   "codemirror_mode": {
    "name": "ipython",
    "version": 3
   },
   "file_extension": ".py",
   "mimetype": "text/x-python",
   "name": "python",
   "nbconvert_exporter": "python",
   "pygments_lexer": "ipython3",
   "version": "3.10.9"
  }
 },
 "nbformat": 4,
 "nbformat_minor": 5
}
